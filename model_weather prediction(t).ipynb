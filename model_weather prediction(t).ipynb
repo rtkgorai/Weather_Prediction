{
 "cells": [
  {
   "cell_type": "code",
   "execution_count": null,
   "id": "54340b52",
   "metadata": {},
   "outputs": [],
   "source": [
    "print(\"hi\")"
   ]
  },
  {
   "cell_type": "code",
   "execution_count": null,
   "id": "528a58f5-094c-4d3b-961c-c0bcac10d130",
   "metadata": {},
   "outputs": [],
   "source": [
    "import pandas as pd\n",
    "import numpy as np\n",
    "import matplotlib.pyplot as plt\n",
    "\n",
    "from sklearn.model_selection import train_test_split\n",
    "from sklearn.preprocessing import LabelEncoder,StandardScaler\n",
    "from sklearn.neural_network import MLPClassifier"
   ]
  },
  {
   "cell_type": "code",
   "execution_count": null,
   "id": "f2b0d09f-7f63-438e-8bcd-575e955ba6ad",
   "metadata": {},
   "outputs": [],
   "source": [
    "data = pd.read_csv('weatherHistory.csv')"
   ]
  },
  {
   "cell_type": "code",
   "execution_count": null,
   "id": "3948c77c-8c6c-49e9-af7d-a9e159ba167e",
   "metadata": {},
   "outputs": [],
   "source": [
    "data"
   ]
  },
  {
   "cell_type": "code",
   "execution_count": null,
   "id": "bb199fcd-f97e-4f8d-8bd5-2603420274af",
   "metadata": {},
   "outputs": [],
   "source": [
    "data.head()"
   ]
  },
  {
   "cell_type": "code",
   "execution_count": null,
   "id": "4e8e2630-08bd-473b-9c83-de5975df2c5b",
   "metadata": {},
   "outputs": [],
   "source": [
    "data.isnull().sum()"
   ]
  },
  {
   "cell_type": "code",
   "execution_count": null,
   "id": "3ce6dc96-29ac-45ad-b8cc-8bb9ab62d3ac",
   "metadata": {},
   "outputs": [],
   "source": [
    "data['Precip Type'] = data['Precip Type'].isna()"
   ]
  },
  {
   "cell_type": "code",
   "execution_count": null,
   "id": "5e01c154-2baa-4584-809b-17720c7c7e8d",
   "metadata": {},
   "outputs": [],
   "source": [
    "data.isnull().sum()"
   ]
  },
  {
   "cell_type": "code",
   "execution_count": null,
   "id": "44cb3871-3030-4eb2-b597-d7cfaa8cac68",
   "metadata": {},
   "outputs": [],
   "source": [
    "data.info()"
   ]
  },
  {
   "cell_type": "code",
   "execution_count": null,
   "id": "f4d7d7db-033d-4450-ba2d-1e0f5aad93f5",
   "metadata": {},
   "outputs": [],
   "source": [
    "data['Summary'].unique()"
   ]
  },
  {
   "cell_type": "code",
   "execution_count": null,
   "id": "2bb57542-1817-4896-953d-06b0405c675f",
   "metadata": {},
   "outputs": [],
   "source": [
    "data['Loud Cover'] = data['Loud Cover'].astype(int)"
   ]
  },
  {
   "cell_type": "code",
   "execution_count": null,
   "id": "b849c350-e7b1-4156-8b33-bd62ecda1949",
   "metadata": {},
   "outputs": [],
   "source": [
    "data['Visibility (km)'] = data['Visibility (km)'].astype(int)"
   ]
  },
  {
   "cell_type": "code",
   "execution_count": null,
   "id": "e67f4edf-b723-416c-9491-d5225e0798e6",
   "metadata": {},
   "outputs": [],
   "source": [
    "data['Wind Bearing (degrees)'] = data['Wind Bearing (degrees)'].astype(int)"
   ]
  },
  {
   "cell_type": "code",
   "execution_count": null,
   "id": "efa7824c-3541-444f-83d8-7a34956e4bd4",
   "metadata": {},
   "outputs": [],
   "source": [
    "data['Pressure (millibars)'] = data['Pressure (millibars)'].astype(int)"
   ]
  },
  {
   "cell_type": "code",
   "execution_count": null,
   "id": "de76f717-0d60-49ab-95bd-254c5c10e7db",
   "metadata": {},
   "outputs": [],
   "source": [
    "data['Wind Speed (km/h)'] = data['Wind Speed (km/h)'].astype(int)"
   ]
  },
  {
   "cell_type": "code",
   "execution_count": null,
   "id": "0de27eba-a798-4134-b134-dcdd7aa48935",
   "metadata": {},
   "outputs": [],
   "source": [
    "data['Humidity'] = data['Humidity'].astype(int)"
   ]
  },
  {
   "cell_type": "code",
   "execution_count": null,
   "id": "f4583905-e8fb-40d6-ab83-ce64372349ac",
   "metadata": {},
   "outputs": [],
   "source": [
    "data['Apparent Temperature (C)'] = data['Apparent Temperature (C)'].astype(int)"
   ]
  },
  {
   "cell_type": "code",
   "execution_count": null,
   "id": "9a1a4afe-de1d-47bd-88b7-05da3c235a73",
   "metadata": {},
   "outputs": [],
   "source": [
    "data.info()"
   ]
  },
  {
   "cell_type": "code",
   "execution_count": null,
   "id": "aec51c42-6460-4f1d-993a-53de278dd17d",
   "metadata": {},
   "outputs": [],
   "source": [
    "data['Temperature (C)'] = data['Temperature (C)'].astype(int)"
   ]
  },
  {
   "cell_type": "code",
   "execution_count": null,
   "id": "45466e3b-dda7-44b9-bcf0-d0ae9536bd32",
   "metadata": {},
   "outputs": [],
   "source": [
    "le = LabelEncoder()"
   ]
  },
  {
   "cell_type": "code",
   "execution_count": null,
   "id": "8295a432-be76-4d6d-89b8-a5d8fbd73c94",
   "metadata": {},
   "outputs": [],
   "source": [
    "data['Daily Summary'] = le.fit_transform(data['Daily Summary'])"
   ]
  },
  {
   "cell_type": "code",
   "execution_count": null,
   "id": "2c36dec4-38fb-4b48-a823-b1c09d3c49f6",
   "metadata": {},
   "outputs": [],
   "source": [
    "data.info()"
   ]
  },
  {
   "cell_type": "code",
   "execution_count": null,
   "id": "ab5d9bf8-01dd-4233-913c-d01e882106ad",
   "metadata": {},
   "outputs": [],
   "source": [
    "data['Precip Type'] = data['Precip Type'].astype(int)"
   ]
  },
  {
   "cell_type": "code",
   "execution_count": null,
   "id": "c844c355-c9c9-41db-9627-0b3166574ff5",
   "metadata": {},
   "outputs": [],
   "source": [
    "data.info()"
   ]
  },
  {
   "cell_type": "code",
   "execution_count": null,
   "id": "17a21e3c-63ef-4d30-9f4c-2ba48a6f27c8",
   "metadata": {},
   "outputs": [],
   "source": [
    "data['Summary'] = le.fit_transform(data['Summary'])"
   ]
  },
  {
   "cell_type": "code",
   "execution_count": null,
   "id": "43e7d862-c95c-45e9-bc96-e4531b1ac921",
   "metadata": {},
   "outputs": [],
   "source": [
    "data['Formatted Date'] = le.fit_transform(data['Formatted Date'])"
   ]
  },
  {
   "cell_type": "code",
   "execution_count": null,
   "id": "f2b9524d-5c92-40d2-8e00-7f8c369e3607",
   "metadata": {},
   "outputs": [],
   "source": [
    "data.info()"
   ]
  },
  {
   "cell_type": "code",
   "execution_count": null,
   "id": "e919bc98-c88a-4f3e-bbf3-a641500983ba",
   "metadata": {},
   "outputs": [],
   "source": [
    "X = data.drop('Summary', axis=1) \n",
    "y = data['Summary'] "
   ]
  },
  {
   "cell_type": "code",
   "execution_count": null,
   "id": "a55d16dc-d713-4f92-a7a0-9f1d6957fc54",
   "metadata": {},
   "outputs": [],
   "source": [
    "X_train, X_test, y_train, y_test = train_test_split(X, y, test_size=0.2, random_state=42)"
   ]
  },
  {
   "cell_type": "code",
   "execution_count": null,
   "id": "b4d54374-9a5f-4567-90ad-9a9d70742982",
   "metadata": {},
   "outputs": [],
   "source": [
    "scaler = StandardScaler()\n",
    "X_train = scaler.fit_transform(X_train)\n",
    "X_test = scaler.transform(X_test)"
   ]
  },
  {
   "cell_type": "code",
   "execution_count": null,
   "id": "696ebd5f-6fe3-4525-a39b-fd07aa5a95fc",
   "metadata": {},
   "outputs": [],
   "source": [
    "model = MLPClassifier(hidden_layer_sizes=(64, 64), activation='relu', solver='adam', random_state=62)\n"
   ]
  },
  {
   "cell_type": "code",
   "execution_count": null,
   "id": "8afb1cbd-6a13-4897-8054-cc54b1c30121",
   "metadata": {},
   "outputs": [],
   "source": [
    "model.fit(X_train, y_train)"
   ]
  },
  {
   "cell_type": "code",
   "execution_count": null,
   "id": "443c0f9c-39d7-4d1c-b46a-a188d2971773",
   "metadata": {},
   "outputs": [],
   "source": [
    "accuracy = model.score(X_test, y_test)\n",
    "print(f'Test Accuracy: {accuracy:.4f}')"
   ]
  },
  {
   "cell_type": "code",
   "execution_count": null,
   "id": "14767162-dfc6-4fbf-94a3-5dd18c353601",
   "metadata": {},
   "outputs": [],
   "source": [
    "predictions = model.predict(X_test)"
   ]
  },
  {
   "cell_type": "code",
   "execution_count": null,
   "id": "53aceb1c-9648-45ce-b9fc-272fae1c9e6b",
   "metadata": {},
   "outputs": [],
   "source": []
  },
  {
   "cell_type": "code",
   "execution_count": null,
   "id": "b94cecbf",
   "metadata": {},
   "outputs": [],
   "source": []
  }
 ],
 "metadata": {
  "kernelspec": {
   "display_name": "Python 3 (ipykernel)",
   "language": "python",
   "name": "python3"
  },
  "language_info": {
   "codemirror_mode": {
    "name": "ipython",
    "version": 3
   },
   "file_extension": ".py",
   "mimetype": "text/x-python",
   "name": "python",
   "nbconvert_exporter": "python",
   "pygments_lexer": "ipython3",
   "version": "3.11.3"
  }
 },
 "nbformat": 4,
 "nbformat_minor": 5
}
